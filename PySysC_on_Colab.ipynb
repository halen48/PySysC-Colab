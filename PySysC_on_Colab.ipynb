{
  "nbformat": 4,
  "nbformat_minor": 0,
  "metadata": {
    "colab": {
      "provenance": [],
      "include_colab_link": true
    },
    "kernelspec": {
      "name": "python3",
      "display_name": "Python 3"
    },
    "language_info": {
      "name": "python"
    }
  },
  "cells": [
    {
      "cell_type": "markdown",
      "metadata": {
        "id": "view-in-github",
        "colab_type": "text"
      },
      "source": [
        "<a href=\"https://colab.research.google.com/github/halen48/PySysC-Colab/blob/main/PySysC_on_Colab.ipynb\" target=\"_parent\"><img src=\"https://colab.research.google.com/assets/colab-badge.svg\" alt=\"Open In Colab\"/></a>"
      ]
    },
    {
      "cell_type": "markdown",
      "source": [
        "# Setup the enviorement"
      ],
      "metadata": {
        "id": "0RhQJ98bxPm2"
      }
    },
    {
      "cell_type": "markdown",
      "source": [
        "## SystemC (needs restart)"
      ],
      "metadata": {
        "id": "_wB3ma7v0eVp"
      }
    },
    {
      "cell_type": "code",
      "source": [
        "import os\n",
        "antigo_environ = os.environ\n",
        "#antigo_environ"
      ],
      "metadata": {
        "id": "KhnYcHzJmx4W"
      },
      "execution_count": null,
      "outputs": []
    },
    {
      "cell_type": "code",
      "source": [
        "# clone of PySysC\n",
        "!git clone https://git.minres.com/SystemC/PySysC.git\n",
        "!wget https://gist.githubusercontent.com/bagheriali2001/0736fabf7da95fb02bbe6777d53fabf7/raw/3b55bcbecc568b7a0be8fb7837987d5d364adcfe/systemc_v2.3.3_installation_script.sh\n",
        "!bash ./systemc_v2.3.3_installation_script.sh\n"
      ],
      "metadata": {
        "id": "s9gswkdoxYTG"
      },
      "execution_count": null,
      "outputs": []
    },
    {
      "cell_type": "markdown",
      "source": [
        "## PySysC"
      ],
      "metadata": {
        "id": "13b_Ymqg0q3L"
      }
    },
    {
      "cell_type": "code",
      "source": [
        "# install wheel package\n",
        "!python3 -m pip install wheel\n",
        "# clone of PySysC\n",
        "!git clone https://git.minres.com/SystemC/PySysC.git\n",
        "with open('/content/PySysC/setup.py','r') as f:\n",
        "  content = f.read()\n",
        "with open('/content/PySysC/setup.py','w') as f:\n",
        "  f.write(content.replace(\"sysc_home+'/lib64'\", \"sysc_home+'/lib-linux64'\"))\n",
        "!pip install --upgrade pip setuptools wheel\n",
        "import os\n",
        "os.environ['SYSTEMC_HOME'] = '/root/systemc-2.3.3/'\n",
        "# install PySysC, for development PySysC use 'python3 -m pip install -e`\n",
        "!pip install /content/PySysC/"
      ],
      "metadata": {
        "id": "ciZG-kiG1S5q"
      },
      "execution_count": null,
      "outputs": []
    },
    {
      "cell_type": "markdown",
      "source": [
        "## Conan (Needs restart)"
      ],
      "metadata": {
        "id": "mhv2BCmN56ij"
      }
    },
    {
      "cell_type": "code",
      "source": [
        "!pip install conan\n",
        "!pip install conan_package_tools"
      ],
      "metadata": {
        "id": "hMCgX0yn8X2D"
      },
      "execution_count": null,
      "outputs": []
    },
    {
      "cell_type": "code",
      "source": [
        "!conan profile update settings.compiler.libcxx=libstdc++11 default\n",
        "!conan profile new default --detect\n",
        "!conan remote add minres https://api.bintray.com/conan/minres/conan-repo --force"
      ],
      "metadata": {
        "id": "i7qrjjMx6AZM"
      },
      "execution_count": null,
      "outputs": []
    },
    {
      "cell_type": "markdown",
      "source": [
        "# PySysC-SC"
      ],
      "metadata": {
        "id": "nG9J1IWsxMGU"
      }
    },
    {
      "cell_type": "code",
      "source": [
        "# get the PySysC-SC repo\n",
        "!git clone --recursive https://git.minres.com/SystemC/PySysC-SC.git\n",
        "# build the project libraries as shared libs\n",
        "!mkdir -p PySysC-SC/build/Debug\n",
        "!cd PySysC-SC/build/Debug && cmake ../../ -DCMAKE_BUILD_TYPE=Debug -DBUILD_SHARED_LIBS=ON\n",
        "!cd /content/PySysC-SC/build/Debug/ && make -j vp_components"
      ],
      "metadata": {
        "id": "2_YboeEFrP1V"
      },
      "execution_count": null,
      "outputs": []
    },
    {
      "cell_type": "code",
      "source": [
        "import logging\n",
        "from cppyy import gbl as cpp\n",
        "import pysysc\n",
        "###############################################################################\n",
        "# setup  and load\n",
        "###############################################################################\n",
        "build_type='Debug'\n",
        "logging.basicConfig(level=logging.DEBUG)\n",
        "###############################################################################\n",
        "myDir = os.path.dirname('/content/PySysC-SC/')\n",
        "pysysc.load_systemc()\n",
        "###############################################################################\n",
        "logging.debug(\"Loading SC-Components lib\")\n",
        "pysysc.add_include_path(os.path.join(myDir, 'scc/src/sysc'))\n",
        "pysysc.add_include_path(os.path.join(myDir, 'scc/src/common'))\n",
        "pysysc.add_include_path(os.path.join(myDir, 'scc/third_party'))\n",
        "pysysc.add_library('scc_sysc.h', os.path.join(myDir, 'build/%s/scc/src/sysc/libscc-sysc.so'%build_type))\n",
        "###############################################################################\n",
        "logging.debug(\"Loading Components lib\")\n",
        "pysysc.add_include_path(os.path.join(myDir, 'vp_components'))\n",
        "pysysc.add_library('components.h', os.path.join(myDir, 'build/%s/vp_components/libvp_components.so'%build_type))\n",
        "###############################################################################\n",
        "# configure\n",
        "###############################################################################\n",
        "cpp.scc.init_logging(cpp.scc.log.INFO, 24, False);\n",
        "cpp.sc_core.sc_report_handler.set_actions(cpp.sc_core.SC_ID_MORE_THAN_ONE_SIGNAL_DRIVER_, cpp.sc_core.SC_DO_NOTHING);"
      ],
      "metadata": {
        "id": "6HU_i-EaFGeJ"
      },
      "execution_count": null,
      "outputs": []
    },
    {
      "cell_type": "markdown",
      "source": [
        "## Code Logic"
      ],
      "metadata": {
        "id": "MWMlRKRzFRKS"
      }
    },
    {
      "cell_type": "code",
      "source": [
        "clkgen = cpp.ClkGen(cpp.sc_core.sc_module_name(\"clk_gen\"))\n",
        "rstgen = cpp.ResetGen(cpp.sc_core.sc_module_name(\"rst_gen\"))\n",
        "initiator = cpp.Initiator(cpp.sc_core.sc_module_name(\"initiator\"))\n",
        "memories = [cpp.Memory(cpp.sc_core.sc_module_name(name)) for name in [\"mem0\", \"mem1\", \"mem2\", \"mem3\"]]\n",
        "router = cpp.Router[4](cpp.sc_core.sc_module_name(\"router\"))\n",
        "###############################################################################\n",
        "# signals\n",
        "###############################################################################\n",
        "sig_clk = cpp.sc_core.sc_signal[cpp.sc_core.sc_time](\"clk\")\n",
        "sig_rst = cpp.sc_core.sc_signal[cpp.sc_dt.sc_logic](\"rst\")\n",
        "###############################################################################\n",
        "# connect it\n",
        "###############################################################################\n",
        "clkgen.clk_o(sig_clk)\n",
        "rstgen.reset_o(sig_rst)\n",
        "initiator.socket.bind(router.target_socket)\n",
        "initiator.clk_i(sig_clk)\n",
        "initiator.reset_i(sig_rst)\n",
        "router.clk_i(sig_clk)\n",
        "router.reset_i(sig_rst)\n",
        "for idx,m in enumerate(memories):\n",
        "    router.initiator_socket.at(idx).bind(m.socket)\n",
        "    m.clk_i(sig_clk)\n",
        "    m.reset_i(sig_rst)"
      ],
      "metadata": {
        "id": "orR7Q46lFSPK"
      },
      "execution_count": null,
      "outputs": []
    },
    {
      "cell_type": "markdown",
      "source": [
        "## Run"
      ],
      "metadata": {
        "id": "Ve8C07dIFkd6"
      }
    },
    {
      "cell_type": "code",
      "source": [
        "tracer = cpp.scc.tracer('vcd_trace', 1, True)\n",
        "cpp.sc_core.sc_start()\n",
        "logging.debug(\"Done\")"
      ],
      "metadata": {
        "id": "BG4Z4S-lFjOE"
      },
      "execution_count": null,
      "outputs": []
    },
    {
      "cell_type": "code",
      "source": [],
      "metadata": {
        "id": "6MgkzdI2Rcr3"
      },
      "execution_count": null,
      "outputs": []
    }
  ]
}